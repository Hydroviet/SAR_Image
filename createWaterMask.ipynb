{
 "cells": [
  {
   "cell_type": "code",
   "execution_count": 2,
   "metadata": {},
   "outputs": [],
   "source": [
    "import rasterio\n",
    "import fiona\n",
    "import rasterio.mask as mask\n",
    "from rasterio.merge import merge\n",
    "import numpy as np\n",
    "from matplotlib import pyplot as plt\n",
    "import queue"
   ]
  },
  {
   "cell_type": "code",
   "execution_count": 3,
   "metadata": {},
   "outputs": [],
   "source": [
    "def listNeighbors(u, v, width, height):\n",
    "    if (u < 0 or u >= height or v < 0 or v >= width):\n",
    "        return None\n",
    "    direction = [-1, 0, 1]\n",
    "    _listNeighbors = []\n",
    "    for i in range(len(direction)):\n",
    "        for j in range(len(direction)):\n",
    "            newU = u + direction[i]\n",
    "            newV = v + direction[j]\n",
    "            if (newU == u and newV == v):\n",
    "                continue\n",
    "            if (newU >= 0 and newU < height and newV >= 0 and newV < width):\n",
    "                _listNeighbors.append([newU, newV])\n",
    "    return _listNeighbors"
   ]
  },
  {
   "cell_type": "code",
   "execution_count": 4,
   "metadata": {},
   "outputs": [],
   "source": [
    "def dfs(mat, u, v, visited, label):\n",
    "    visited[u][v] = label\n",
    "    #print('visited[%d, %d] = %d' % (u, v, label))\n",
    "    for neighbor in listNeighbors(u, v, mat.shape[1], mat.shape[0]):\n",
    "        if visited[neighbor[0]][neighbor[1]] == 0 and mat[neighbor[0]][neighbor[1]] == 1:\n",
    "            dfs(mat, neighbor[0], neighbor[1], visited, label)"
   ]
  },
  {
   "cell_type": "code",
   "execution_count": 5,
   "metadata": {},
   "outputs": [],
   "source": [
    "def bfs(mat, u, v, visited, label):\n",
    "    cnt = 0\n",
    "    q = queue.Queue()\n",
    "    q.put([u,v])\n",
    "    visited[u][v] = label\n",
    "    while not q.empty():\n",
    "        cnt+=1\n",
    "        current = q.get()\n",
    "        for neighbor in listNeighbors(current[0], current[1], mat.shape[1], mat.shape[0]):\n",
    "            if visited[neighbor[0]][neighbor[1]] == 0 and mat[neighbor[0]][neighbor[1]] == 1:\n",
    "                visited[neighbor[0]][neighbor[1]] = label\n",
    "                q.put(neighbor)"
   ]
  },
  {
   "cell_type": "code",
   "execution_count": 6,
   "metadata": {},
   "outputs": [],
   "source": [
    "def findConnectedElements(mat):\n",
    "    visited = np.zeros(mat.shape)\n",
    "    label = 1\n",
    "    for i in range(mat.shape[0]):\n",
    "        for j in range(mat.shape[1]):\n",
    "            if (mat[i][j] == 1 and visited[i][j] == 0):\n",
    "                bfs(mat, i, j, visited, label)\n",
    "                label += 1\n",
    "    return visited, label"
   ]
  },
  {
   "cell_type": "code",
   "execution_count": 7,
   "metadata": {},
   "outputs": [],
   "source": [
    "def findLargestConnectedElement(visited, label):\n",
    "    sz = np.zeros(label)\n",
    "    for i in range(visited.shape[0]):\n",
    "        for j in range(visited.shape[1]):\n",
    "            sz[int(visited[i][j])] += 1\n",
    "    sz[0] = -1\n",
    "    return np.argmax(sz)"
   ]
  },
  {
   "cell_type": "code",
   "execution_count": 8,
   "metadata": {},
   "outputs": [],
   "source": [
    "def maskOutLake(watermask):\n",
    "    visited, label = findConnectedElements(watermask)\n",
    "    largestElement = findLargestConnectedElement(visited, label)\n",
    "    maskLake = np.zeros(watermask.shape)\n",
    "    for i in range(watermask.shape[0]):\n",
    "        for j in range(watermask.shape[1]):\n",
    "            if visited[i][j] == largestElement:\n",
    "                maskLake[i][j] = 1\n",
    "    return maskLake"
   ]
  },
  {
   "cell_type": "code",
   "execution_count": 9,
   "metadata": {},
   "outputs": [],
   "source": [
    "def maskWater(vh, offset = -22):\n",
    "    maskwater = np.zeros(vh.shape)\n",
    "    for i in range(vh.shape[0]):\n",
    "        for j in range(vh.shape[1]):\n",
    "            if vh[i][j] < offset:\n",
    "                maskwater[i][j] = 1\n",
    "    return maskwater"
   ]
  },
  {
   "cell_type": "code",
   "execution_count": 10,
   "metadata": {},
   "outputs": [],
   "source": [
    "def countPixel(mat):\n",
    "    cnt = 0\n",
    "    for i in range(mat.shape[0]):\n",
    "        for j in range(mat.shape[1]):\n",
    "            if mat[i][j] == 1:\n",
    "                cnt += 1\n",
    "    return cnt"
   ]
  },
  {
   "cell_type": "code",
   "execution_count": 11,
   "metadata": {},
   "outputs": [],
   "source": [
    "def createMaskLake(imgDir):\n",
    "    ds = rasterio.open(imgDir)\n",
    "    band = ds.read()\n",
    "    waterMask = maskWater(band[0])\n",
    "    return maskOutLake(waterMask)"
   ]
  },
  {
   "cell_type": "code",
   "execution_count": 12,
   "metadata": {},
   "outputs": [
    {
     "ename": "RasterioIOError",
     "evalue": "merge_resampled.tif: No such file or directory",
     "output_type": "error",
     "traceback": [
      "\u001b[0;31m---------------------------------------------------------------------------\u001b[0m",
      "\u001b[0;31mCPLE_OpenFailed\u001b[0m                           Traceback (most recent call last)",
      "\u001b[0;32mrasterio/_base.pyx\u001b[0m in \u001b[0;36mrasterio._base.DatasetReader.start (rasterio/_base.c:2847)\u001b[0;34m()\u001b[0m\n",
      "\u001b[0;32mrasterio/_base.pyx\u001b[0m in \u001b[0;36mrasterio._base.DatasetReader.start (rasterio/_base.c:2799)\u001b[0;34m()\u001b[0m\n",
      "\u001b[0;32mrasterio/_err.pyx\u001b[0m in \u001b[0;36mrasterio._err.CPLErrors.check (rasterio/_err.c:1773)\u001b[0;34m()\u001b[0m\n",
      "\u001b[0;31mCPLE_OpenFailed\u001b[0m: merge_resampled.tif: No such file or directory",
      "\nDuring handling of the above exception, another exception occurred:\n",
      "\u001b[0;31mRasterioIOError\u001b[0m                           Traceback (most recent call last)",
      "\u001b[0;32m<ipython-input-12-4a0a455f218f>\u001b[0m in \u001b[0;36m<module>\u001b[0;34m()\u001b[0m\n\u001b[0;32m----> 1\u001b[0;31m \u001b[0mmaskTonlesap\u001b[0m \u001b[0;34m=\u001b[0m \u001b[0mcreateMaskLake\u001b[0m\u001b[0;34m(\u001b[0m\u001b[0;34m'merge_resampled.tif'\u001b[0m\u001b[0;34m)\u001b[0m\u001b[0;34m\u001b[0m\u001b[0m\n\u001b[0m",
      "\u001b[0;32m<ipython-input-11-48d59e438242>\u001b[0m in \u001b[0;36mcreateMaskLake\u001b[0;34m(imgDir)\u001b[0m\n\u001b[1;32m      1\u001b[0m \u001b[0;32mdef\u001b[0m \u001b[0mcreateMaskLake\u001b[0m\u001b[0;34m(\u001b[0m\u001b[0mimgDir\u001b[0m\u001b[0;34m)\u001b[0m\u001b[0;34m:\u001b[0m\u001b[0;34m\u001b[0m\u001b[0m\n\u001b[0;32m----> 2\u001b[0;31m     \u001b[0mds\u001b[0m \u001b[0;34m=\u001b[0m \u001b[0mrasterio\u001b[0m\u001b[0;34m.\u001b[0m\u001b[0mopen\u001b[0m\u001b[0;34m(\u001b[0m\u001b[0mimgDir\u001b[0m\u001b[0;34m)\u001b[0m\u001b[0;34m\u001b[0m\u001b[0m\n\u001b[0m\u001b[1;32m      3\u001b[0m     \u001b[0mband\u001b[0m \u001b[0;34m=\u001b[0m \u001b[0mds\u001b[0m\u001b[0;34m.\u001b[0m\u001b[0mread\u001b[0m\u001b[0;34m(\u001b[0m\u001b[0;34m)\u001b[0m\u001b[0;34m\u001b[0m\u001b[0m\n\u001b[1;32m      4\u001b[0m     \u001b[0mwaterMask\u001b[0m \u001b[0;34m=\u001b[0m \u001b[0mmaskWater\u001b[0m\u001b[0;34m(\u001b[0m\u001b[0mband\u001b[0m\u001b[0;34m[\u001b[0m\u001b[0;36m0\u001b[0m\u001b[0;34m]\u001b[0m\u001b[0;34m)\u001b[0m\u001b[0;34m\u001b[0m\u001b[0m\n\u001b[1;32m      5\u001b[0m     \u001b[0;32mreturn\u001b[0m \u001b[0mmaskOutLake\u001b[0m\u001b[0;34m(\u001b[0m\u001b[0mwaterMask\u001b[0m\u001b[0;34m)\u001b[0m\u001b[0;34m\u001b[0m\u001b[0m\n",
      "\u001b[0;32m/usr/local/lib/python3.6/site-packages/rasterio/__init__.py\u001b[0m in \u001b[0;36mopen\u001b[0;34m(path, mode, driver, width, height, count, crs, transform, dtype, nodata, **kwargs)\u001b[0m\n\u001b[1;32m    191\u001b[0m         raise ValueError(\n\u001b[1;32m    192\u001b[0m             \"mode string must be one of 'r', 'r+', or 'w', not %s\" % mode)\n\u001b[0;32m--> 193\u001b[0;31m     \u001b[0ms\u001b[0m\u001b[0;34m.\u001b[0m\u001b[0mstart\u001b[0m\u001b[0;34m(\u001b[0m\u001b[0;34m)\u001b[0m\u001b[0;34m\u001b[0m\u001b[0m\n\u001b[0m\u001b[1;32m    194\u001b[0m     \u001b[0;32mreturn\u001b[0m \u001b[0ms\u001b[0m\u001b[0;34m\u001b[0m\u001b[0m\n\u001b[1;32m    195\u001b[0m \u001b[0;34m\u001b[0m\u001b[0m\n",
      "\u001b[0;32mrasterio/_base.pyx\u001b[0m in \u001b[0;36mrasterio._base.DatasetReader.start (rasterio/_base.c:2969)\u001b[0;34m()\u001b[0m\n",
      "\u001b[0;31mRasterioIOError\u001b[0m: merge_resampled.tif: No such file or directory"
     ]
    }
   ],
   "source": [
    "maskTonlesap = createMaskLake('merge_resampled.tif')"
   ]
  },
  {
   "cell_type": "code",
   "execution_count": 12,
   "metadata": {},
   "outputs": [
    {
     "data": {
      "text/plain": [
       "<matplotlib.image.AxesImage at 0x7f2c3c835e10>"
      ]
     },
     "execution_count": 12,
     "metadata": {},
     "output_type": "execute_result"
    },
    {
     "data": {
      "image/png": "[encoded data removed]",
      "text/plain": [
       "<matplotlib.figure.Figure at 0x7f2c3caf9908>"
      ]
     },
     "metadata": {},
     "output_type": "display_data"
    }
   ],
   "source": [
    "plt.imshow(maskTonlesap)"
   ]
  },
  {
   "cell_type": "code",
   "execution_count": null,
   "metadata": {},
   "outputs": [],
   "source": []
  }
 ],
 "metadata": {
  "kernelspec": {
   "display_name": "Python 3",
   "language": "python",
   "name": "python3"
  },
  "language_info": {
   "codemirror_mode": {
    "name": "ipython",
    "version": 3
   },
   "file_extension": ".py",
   "mimetype": "text/x-python",
   "name": "python",
   "nbconvert_exporter": "python",
   "pygments_lexer": "ipython3",
   "version": "3.6.5"
  }
 },
 "nbformat": 4,
 "nbformat_minor": 2
}
