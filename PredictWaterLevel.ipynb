{
 "cells": [
  {
   "cell_type": "code",
   "execution_count": 1,
   "metadata": {},
   "outputs": [],
   "source": [
    "import fiona\n",
    "import rasterio\n",
    "import rasterio.mask\n",
    "import numpy as np\n",
    "import math"
   ]
  },
  {
   "cell_type": "code",
   "execution_count": 2,
   "metadata": {},
   "outputs": [],
   "source": [
    "from skimage import io, transform"
   ]
  },
  {
   "cell_type": "code",
   "execution_count": 3,
   "metadata": {},
   "outputs": [],
   "source": [
    "def img2Vec(imgPath, listVar):\n",
    "    imgSize = 45\n",
    "    img = listVar[0]\n",
    "    img = io.imread(imgPath, as_grey = True, plugin = \"gdal\")\n",
    "    img = transform.resize(img, (imgSize, math.ceil(img.shape[1]/img.shape[0]*imgSize)))\n",
    "    img.resize(1,img.shape[0]*img.shape[1])\n",
    "    return img.copy()"
   ]
  },
  {
   "cell_type": "code",
   "execution_count": 4,
   "metadata": {},
   "outputs": [],
   "source": [
    "imgPaths = []\n",
    "imgDir = '/home/lamductan/Hydroviet/Tonlesap/RGB/'\n",
    "yearLabel = '2017'\n",
    "for i in range(1,13):\n",
    "    imgPaths.append(imgDir + 'Tonlesap_' + yearLabel + str(i).zfill(2) + '.tif')"
   ]
  },
  {
   "cell_type": "code",
   "execution_count": 5,
   "metadata": {},
   "outputs": [],
   "source": [
    "Y = np.array([[4.4, 1.7, 2, 3, 1.8, 2.2, 4, 6, 7.8, 8.2, 7.6, 6.1]])"
   ]
  },
  {
   "cell_type": "code",
   "execution_count": 6,
   "metadata": {},
   "outputs": [],
   "source": [
    "def prepairData(imgPaths):\n",
    "    listVar = [1]\n",
    "    X = []\n",
    "    for path in imgPaths:\n",
    "        X.append(img2Vec(path, listVar))\n",
    "    return np.array(X)"
   ]
  },
  {
   "cell_type": "code",
   "execution_count": 7,
   "metadata": {},
   "outputs": [
    {
     "name": "stderr",
     "output_type": "stream",
     "text": [
      "/usr/local/lib/python3.6/site-packages/skimage/io/_io.py:49: UserWarning: `as_grey` has been deprecated in favor of `as_gray`\n",
      "  warn('`as_grey` has been deprecated in favor of `as_gray`')\n",
      "/usr/local/lib/python3.6/site-packages/skimage/transform/_warps.py:105: UserWarning: The default mode, 'constant', will be changed to 'reflect' in skimage 0.15.\n",
      "  warn(\"The default mode, 'constant', will be changed to 'reflect' in \"\n",
      "/usr/local/lib/python3.6/site-packages/skimage/transform/_warps.py:110: UserWarning: Anti-aliasing will be enabled by default in skimage 0.15 to avoid aliasing artifacts when down-sampling images.\n",
      "  warn(\"Anti-aliasing will be enabled by default in skimage 0.15 to \"\n"
     ]
    }
   ],
   "source": [
    "X = prepairData(imgPaths)"
   ]
  },
  {
   "cell_type": "code",
   "execution_count": 8,
   "metadata": {},
   "outputs": [],
   "source": [
    "X = X.reshape(X.shape[0], X.shape[2])"
   ]
  },
  {
   "cell_type": "code",
   "execution_count": 9,
   "metadata": {},
   "outputs": [],
   "source": [
    "X = X/np.max(X)"
   ]
  },
  {
   "cell_type": "code",
   "execution_count": 10,
   "metadata": {},
   "outputs": [],
   "source": [
    "X = X.T\n",
    "a = np.ones((1,X.shape[1]))\n",
    "X = np.concatenate((a,X), axis=0)"
   ]
  },
  {
   "cell_type": "code",
   "execution_count": 11,
   "metadata": {},
   "outputs": [
    {
     "name": "stdout",
     "output_type": "stream",
     "text": [
      "[[1. 1. 1. ... 1. 1. 1.]\n",
      " [0. 0. 0. ... 0. 0. 0.]\n",
      " [0. 0. 0. ... 0. 0. 0.]\n",
      " ...\n",
      " [0. 0. 0. ... 0. 0. 0.]\n",
      " [0. 0. 0. ... 0. 0. 0.]\n",
      " [0. 0. 0. ... 0. 0. 0.]]\n",
      "[[4.4 1.7 2.  3.  1.8 2.2 4.  6.  7.8]]\n"
     ]
    }
   ],
   "source": [
    "testPercent = 3/4\n",
    "\n",
    "X_train = X[:,:int(testPercent*X.shape[1])]\n",
    "Y_train = Y[:,:int(testPercent*Y.shape[1])]\n",
    "\n",
    "print(X_train)\n",
    "print(Y_train)\n",
    "\n",
    "X_test = X[:,math.ceil(testPercent*X.shape[1]):]\n",
    "Y_test = Y[:,math.ceil(testPercent*X.shape[1]):]"
   ]
  },
  {
   "cell_type": "code",
   "execution_count": 12,
   "metadata": {},
   "outputs": [],
   "source": [
    "def costFunction(theta, X, Y):\n",
    "    m = X.shape[1]\n",
    "    A = theta.dot(X) - Y\n",
    "    return 1/(2*m)*A.dot(A.T)"
   ]
  },
  {
   "cell_type": "code",
   "execution_count": 13,
   "metadata": {},
   "outputs": [],
   "source": [
    "def gradientDescent(theta, X, Y):\n",
    "    m = X.shape[1]\n",
    "    matMul = theta.dot(X)-Y\n",
    "    grad = np.zeros(theta.shape)\n",
    "    grad[0,0] = 1/m * np.sum(matMul)\n",
    "    for i in range(1, theta.shape[1]):\n",
    "        grad[0,i] = 1/m * matMul.dot(X[i].T)\n",
    "    return grad"
   ]
  },
  {
   "cell_type": "code",
   "execution_count": 14,
   "metadata": {},
   "outputs": [],
   "source": [
    "def linearRegressionWithGradientDescent(X_train, Y_train, alpha = 0.001):\n",
    "    #iters = 100\n",
    "    iters = 0\n",
    "    theta = np.random.random((1,X_train.shape[0]))\n",
    "    cost = 10000\n",
    "    threshold = 0.01\n",
    "    while cost > threshold and iters < 100000:\n",
    "        cost = costFunction(theta, X_train, Y_train)\n",
    "        if iters % 100 == 0:\n",
    "            print(cost)\n",
    "        grad = gradientDescent(theta, X_train, Y_train)\n",
    "        theta -= alpha*grad\n",
    "        #iters -= 1\n",
    "        iters += 1\n",
    "    print('iters = %d' % iters)\n",
    "    return theta"
   ]
  },
  {
   "cell_type": "code",
   "execution_count": 15,
   "metadata": {},
   "outputs": [
    {
     "name": "stdout",
     "output_type": "stream",
     "text": [
      "[[2066.66562685]]\n",
      "[[2.04292718]]\n",
      "[[0.9941997]]\n",
      "[[0.77507473]]\n",
      "[[0.6133482]]\n",
      "[[0.49345365]]\n",
      "[[0.40420715]]\n",
      "[[0.33742917]]\n",
      "[[0.28713683]]\n",
      "[[0.24895339]]\n",
      "[[0.21967655]]\n",
      "[[0.19696274]]\n",
      "[[0.17909637]]\n",
      "[[0.16482107]]\n",
      "[[0.15321634]]\n",
      "[[0.14360731]]\n",
      "[[0.1354988]]\n",
      "[[0.12852709]]\n",
      "[[0.12242464]]\n",
      "[[0.11699432]]\n",
      "[[0.11209054]]\n",
      "[[0.10760547]]\n",
      "[[0.10345893]]\n",
      "[[0.09959105]]\n",
      "[[0.09595682]]\n",
      "[[0.09252219]]\n",
      "[[0.08926114]]\n",
      "[[0.0861536]]\n",
      "[[0.08318388]]\n",
      "[[0.08033952]]\n",
      "[[0.07761051]]\n",
      "[[0.07498861]]\n",
      "[[0.07246695]]\n",
      "[[0.0700397]]\n",
      "[[0.06770181]]\n",
      "[[0.06544881]]\n",
      "[[0.06327674]]\n",
      "[[0.06118199]]\n",
      "[[0.05916126]]\n",
      "[[0.05721151]]\n",
      "[[0.05532989]]\n",
      "[[0.05351373]]\n",
      "[[0.05176051]]\n",
      "[[0.05006784]]\n",
      "[[0.04843346]]\n",
      "[[0.0468552]]\n",
      "[[0.045331]]\n",
      "[[0.04385887]]\n",
      "[[0.04243694]]\n",
      "[[0.04106339]]\n",
      "[[0.03973647]]\n",
      "[[0.03845452]]\n",
      "[[0.03721592]]\n",
      "[[0.03601913]]\n",
      "[[0.03486267]]\n",
      "[[0.03374511]]\n",
      "[[0.03266507]]\n",
      "[[0.03162123]]\n",
      "[[0.03061233]]\n",
      "[[0.02963713]]\n",
      "[[0.02869445]]\n",
      "[[0.02778316]]\n",
      "[[0.02690216]]\n",
      "[[0.02605039]]\n",
      "[[0.02522686]]\n",
      "[[0.02443056]]\n",
      "[[0.02366057]]\n",
      "[[0.02291596]]\n",
      "[[0.02219588]]\n",
      "[[0.02149946]]\n",
      "[[0.0208259]]\n",
      "[[0.02017442]]\n",
      "[[0.01954426]]\n",
      "[[0.01893468]]\n",
      "[[0.01834499]]\n",
      "[[0.0177745]]\n",
      "[[0.01722257]]\n",
      "[[0.01668856]]\n",
      "[[0.01617187]]\n",
      "[[0.0156719]]\n",
      "[[0.0151881]]\n",
      "[[0.01471991]]\n",
      "[[0.01426681]]\n",
      "[[0.01382829]]\n",
      "[[0.01340387]]\n",
      "[[0.01299306]]\n",
      "[[0.01259542]]\n",
      "[[0.01221049]]\n",
      "[[0.01183786]]\n",
      "[[0.01147712]]\n",
      "[[0.01112786]]\n",
      "[[0.01078972]]\n",
      "[[0.01046231]]\n",
      "[[0.01014528]]\n",
      "iters = 9348\n"
     ]
    }
   ],
   "source": [
    "theta = linearRegressionWithGradientDescent(X_train, Y_train)"
   ]
  },
  {
   "cell_type": "code",
   "execution_count": 16,
   "metadata": {},
   "outputs": [],
   "source": [
    "def predict(theta, X):\n",
    "    return theta.dot(X.T)"
   ]
  },
  {
   "cell_type": "code",
   "execution_count": null,
   "metadata": {},
   "outputs": [],
   "source": []
  },
  {
   "cell_type": "code",
   "execution_count": null,
   "metadata": {},
   "outputs": [],
   "source": []
  },
  {
   "cell_type": "code",
   "execution_count": 17,
   "metadata": {},
   "outputs": [
    {
     "name": "stdout",
     "output_type": "stream",
     "text": [
      "[[4.09966843]\n",
      " [1.86658081]\n",
      " [2.00725151]\n",
      " [3.13894159]\n",
      " [1.6576701 ]\n",
      " [2.22518639]\n",
      " [4.02333316]\n",
      " [6.12472712]\n",
      " [7.72489047]]\n"
     ]
    }
   ],
   "source": [
    "train = []\n",
    "for i in range(X_train.shape[1]):\n",
    "    train.append(predict(theta, X_train[:,i]))\n",
    "\n",
    "print(np.array(train))"
   ]
  },
  {
   "cell_type": "code",
   "execution_count": 18,
   "metadata": {},
   "outputs": [
    {
     "name": "stdout",
     "output_type": "stream",
     "text": [
      "[[4.4]\n",
      " [1.7]\n",
      " [2. ]\n",
      " [3. ]\n",
      " [1.8]\n",
      " [2.2]\n",
      " [4. ]\n",
      " [6. ]\n",
      " [7.8]]\n"
     ]
    }
   ],
   "source": [
    "print(Y_train.T)"
   ]
  },
  {
   "cell_type": "code",
   "execution_count": 19,
   "metadata": {},
   "outputs": [
    {
     "name": "stdout",
     "output_type": "stream",
     "text": [
      "[[9.25500874]\n",
      " [7.68070611]\n",
      " [5.11095436]]\n"
     ]
    }
   ],
   "source": [
    "pred = []\n",
    "for i in range(X_test.shape[1]):\n",
    "    pred.append(predict(theta, X_test[:,i]))\n",
    "\n",
    "print(np.array(pred))"
   ]
  },
  {
   "cell_type": "code",
   "execution_count": 20,
   "metadata": {},
   "outputs": [
    {
     "name": "stdout",
     "output_type": "stream",
     "text": [
      "[[8.2]\n",
      " [7.6]\n",
      " [6.1]]\n"
     ]
    }
   ],
   "source": [
    "print(Y_test.T)"
   ]
  },
  {
   "cell_type": "code",
   "execution_count": null,
   "metadata": {},
   "outputs": [],
   "source": []
  }
 ],
 "metadata": {
  "kernelspec": {
   "display_name": "Python 3",
   "language": "python",
   "name": "python3"
  },
  "language_info": {
   "codemirror_mode": {
    "name": "ipython",
    "version": 3
   },
   "file_extension": ".py",
   "mimetype": "text/x-python",
   "name": "python",
   "nbconvert_exporter": "python",
   "pygments_lexer": "ipython3",
   "version": "3.6.5"
  }
 },
 "nbformat": 4,
 "nbformat_minor": 2
}
